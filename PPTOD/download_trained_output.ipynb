{
 "cells": [
  {
   "cell_type": "code",
   "execution_count": 1,
   "id": "35897fdb",
   "metadata": {},
   "outputs": [
    {
     "name": "stdout",
     "output_type": "stream",
     "text": [
      "SageMaker version: 2.86.2\n"
     ]
    }
   ],
   "source": [
    "import sagemaker\n",
    "import boto3\n",
    "import os\n",
    "\n",
    "sagemaker_session = sagemaker.Session()\n",
    "print('SageMaker version: ' + sagemaker.__version__)\n",
    "\n",
    "# bucket = sagemaker_session.default_bucket()\n",
    "bucket = 'prod-tpgt-knowledge-lake-sandpit-v1'\n",
    "prefix = 'zihan-research/dialogue-state-tracking/PPTOD-AL'\n",
    "# base_job_name = 'KAGE-DS-L4P4K2-RandomTurn'\n",
    "# base_job_name = 'KAGE-DS-L4P4K2-LastTurn'\n",
    "\n",
    "# role = sagemaker.get_execution_role()\n",
    "# checkpoint_s3_path = f's3://{bucket}/{prefix}/{base_job_name}/checkpoints'\n",
    "\n",
    "# print('Checkpointing Path: {}'.format(checkpoint_s3_path))"
   ]
  },
  {
   "cell_type": "code",
   "execution_count": null,
   "id": "97fa654d",
   "metadata": {},
   "outputs": [],
   "source": []
  },
  {
   "cell_type": "code",
   "execution_count": null,
   "id": "f083ac72",
   "metadata": {},
   "outputs": [],
   "source": [
    "# # upload files to s3\n",
    "# def upload_to_s3(file_name, bucket, object_name):\n",
    "#     if object_name is None:\n",
    "#         object_name = os.path.basename(file_name)\n",
    "    \n",
    "#     s3_client = boto3.client('s3')\n",
    "#     print(object_name)\n",
    "#     s3_client.upload_file(file_name, bucket, object_name)"
   ]
  },
  {
   "cell_type": "code",
   "execution_count": null,
   "id": "bd06aa55",
   "metadata": {},
   "outputs": [],
   "source": [
    "# upload data to S3"
   ]
  },
  {
   "cell_type": "markdown",
   "id": "57399be9",
   "metadata": {},
   "source": [
    "#### Selected Turns"
   ]
  },
  {
   "cell_type": "code",
   "execution_count": 36,
   "id": "d911ff08",
   "metadata": {},
   "outputs": [
    {
     "name": "stdout",
     "output_type": "stream",
     "text": [
      "epoch_5_round_3_dev_joint_accuracy_36.24  selected_turn_id.csv\n",
      "model.tar.gz\t\t\t\t  test_acc_per_round.csv\n"
     ]
    }
   ],
   "source": [
    "!ls selected_turns"
   ]
  },
  {
   "cell_type": "code",
   "execution_count": 37,
   "id": "68fc9460",
   "metadata": {},
   "outputs": [
    {
     "name": "stdout",
     "output_type": "stream",
     "text": [
      "checkpoints\t\t       DST\toverview.png\n",
      "CODE_OF_CONDUCT.md\t       E2E_TOD\tPretraining\n",
      "CONTRIBUTING.md\t\t       IC\tREADME.md\n",
      "data\t\t\t       LICENSE\trequirements.txt\n",
      "download_trained_output.ipynb  NOTICE\tsagemaker_train.ipynb\n"
     ]
    }
   ],
   "source": [
    "# clear selected_turns folder\n",
    "!rm -r selected_turns\n",
    "!ls"
   ]
  },
  {
   "cell_type": "code",
   "execution_count": 38,
   "id": "aafbb8f0",
   "metadata": {},
   "outputs": [],
   "source": [
    "key = 'zihan-research/dialogue-state-tracking/PPTOD-AL/Select-Turn/PPTOD-base-MaxEntropy/mwz21/model/PPTOD-MWZ21-ME-B24D2000Bud0-S164-2022-06-17-12-54-34-041/output'"
   ]
  },
  {
   "cell_type": "code",
   "execution_count": 39,
   "id": "3454877e",
   "metadata": {},
   "outputs": [
    {
     "name": "stdout",
     "output_type": "stream",
     "text": [
      "CPU times: user 2.39 s, sys: 2.21 s, total: 4.6 s\n",
      "Wall time: 4.88 s\n"
     ]
    }
   ],
   "source": [
    "%%time\n",
    "# download the output.tar.gz to selected_turns folder\n",
    "sagemaker_session.download_data(path='selected_turns', bucket=bucket, key_prefix=key)"
   ]
  },
  {
   "cell_type": "code",
   "execution_count": 40,
   "id": "f3d24db9",
   "metadata": {},
   "outputs": [
    {
     "name": "stdout",
     "output_type": "stream",
     "text": [
      "selected_turn_id.csv\n",
      "test_acc_per_round.csv\n",
      "epoch_11_round_3_dev_joint_accuracy_36.04/\n",
      "epoch_11_round_3_dev_joint_accuracy_36.04/test_joint_accuracy_49.21.json\n",
      "epoch_11_round_3_dev_joint_accuracy_36.04/added_tokens.json\n",
      "epoch_11_round_3_dev_joint_accuracy_36.04/spiece.model\n",
      "epoch_11_round_3_dev_joint_accuracy_36.04/dev_joint_accuracy_36.04.json\n",
      "epoch_11_round_3_dev_joint_accuracy_36.04/tokenizer_config.json\n",
      "epoch_11_round_3_dev_joint_accuracy_36.04/special_tokens_map.json\n",
      "epoch_11_round_3_dev_joint_accuracy_36.04/pytorch_model.bin\n",
      "epoch_11_round_3_dev_joint_accuracy_36.04/config.json\n",
      "CPU times: user 49.9 ms, sys: 26.6 ms, total: 76.5 ms\n",
      "Wall time: 7.85 s\n"
     ]
    }
   ],
   "source": [
    "%%time\n",
    "# Extract the files from output.tar.gz to checkpoints directory\n",
    "!tar -zxvf selected_turns/model.tar.gz -C selected_turns"
   ]
  },
  {
   "cell_type": "code",
   "execution_count": 41,
   "id": "ed7b0bad",
   "metadata": {},
   "outputs": [],
   "source": [
    "# upload files to s3\n",
    "def upload_to_s3(file_name, bucket, object_name):\n",
    "    if object_name is None:\n",
    "        object_name = os.path.basename(file_name)\n",
    "    \n",
    "    s3_client = boto3.client('s3')\n",
    "    print(object_name)\n",
    "    s3_client.upload_file(file_name, bucket, object_name)\n",
    "\n",
    "def get_filenames(directory_path):\n",
    "    filenames = []\n",
    "    for filename in os.listdir(directory_path):\n",
    "        if filename.endswith(\".json\") or filename.endswith(\".csv\"): \n",
    "            filenames.append(filename)\n",
    "    \n",
    "    return filenames"
   ]
  },
  {
   "cell_type": "code",
   "execution_count": 42,
   "id": "271eb7df",
   "metadata": {},
   "outputs": [
    {
     "data": {
      "text/plain": [
       "['selected_turns/test_acc_per_round.csv',\n",
       " 'selected_turns/selected_turn_id.csv']"
      ]
     },
     "execution_count": 42,
     "metadata": {},
     "output_type": "execute_result"
    }
   ],
   "source": [
    "selected_turn_filenames = get_filenames(\"./selected_turns\")\n",
    "selected_turn_paths = [f'selected_turns/{path}' for path in selected_turn_filenames]\n",
    "selected_turn_paths"
   ]
  },
  {
   "cell_type": "code",
   "execution_count": 43,
   "id": "da3c1c12",
   "metadata": {},
   "outputs": [
    {
     "name": "stdout",
     "output_type": "stream",
     "text": [
      "zihan-research/dialogue-state-tracking/PPTOD-AL/Select-Turn/PPTOD-base-MaxEntropy/mwz21/model/PPTOD-MWZ21-ME-B24D2000Bud0-S164-2022-06-17-12-54-34-041/output/test_acc_per_round.csv\n",
      "zihan-research/dialogue-state-tracking/PPTOD-AL/Select-Turn/PPTOD-base-MaxEntropy/mwz21/model/PPTOD-MWZ21-ME-B24D2000Bud0-S164-2022-06-17-12-54-34-041/output/selected_turn_id.csv\n"
     ]
    }
   ],
   "source": [
    "key = 'zihan-research/dialogue-state-tracking/PPTOD-AL/Select-Turn/PPTOD-base-MaxEntropy/mwz21/model/PPTOD-MWZ21-ME-B24D2000Bud0-S164-2022-06-17-12-54-34-041/output'\n",
    "\n",
    "for i in list(range(len(selected_turn_paths))): \n",
    "    upload_to_s3(selected_turn_paths[i], bucket, f'{key}/{selected_turn_filenames[i]}')"
   ]
  },
  {
   "cell_type": "code",
   "execution_count": 86,
   "id": "04ba4bf1",
   "metadata": {},
   "outputs": [],
   "source": [
    "# move the selected turn csv to Src/selected_turn\n",
    "!cp 'selected_turns/selected_turn_id.csv' 'Src/selected_turns/selected_turn_id.csv'"
   ]
  },
  {
   "cell_type": "code",
   "execution_count": 87,
   "id": "2d308507",
   "metadata": {},
   "outputs": [],
   "source": [
    "!cp -r 'selected_turns/tokenizer/' 'Src/selected_turns/tokenizer/'"
   ]
  },
  {
   "cell_type": "code",
   "execution_count": 88,
   "id": "f7ab7616",
   "metadata": {},
   "outputs": [],
   "source": [
    "!cp -r 'selected_turns/model_best.pth.tar' 'Src/selected_turns/model_best.pth.tar'"
   ]
  },
  {
   "cell_type": "markdown",
   "id": "e5a8236d",
   "metadata": {},
   "source": [
    "Local"
   ]
  },
  {
   "cell_type": "code",
   "execution_count": 28,
   "id": "71aba5a7",
   "metadata": {},
   "outputs": [],
   "source": [
    "# !cp 'selected_turns/selected_turn_id.csv' 'Experiments/mwz20_debug5/train/saved_model/selected_turn_id.csv'"
   ]
  },
  {
   "cell_type": "code",
   "execution_count": 29,
   "id": "8949c0ee",
   "metadata": {},
   "outputs": [],
   "source": [
    "# !cp -r 'selected_turns/tokenizer/' 'Experiments/mwz20_debug5/train/saved_model/tokenizer/'"
   ]
  },
  {
   "cell_type": "code",
   "execution_count": 30,
   "id": "069b18d2",
   "metadata": {},
   "outputs": [],
   "source": [
    "# !cp -r 'selected_turns/model_best.pth.tar' 'Experiments/mwz20_debug5/train/saved_model/model_best.pth.tar'"
   ]
  },
  {
   "cell_type": "code",
   "execution_count": null,
   "id": "35fb4fc8",
   "metadata": {},
   "outputs": [],
   "source": []
  },
  {
   "cell_type": "markdown",
   "id": "54f8b1a8",
   "metadata": {},
   "source": [
    "#### Run Testing"
   ]
  },
  {
   "cell_type": "code",
   "execution_count": 11,
   "id": "1b3d1554",
   "metadata": {},
   "outputs": [
    {
     "name": "stdout",
     "output_type": "stream",
     "text": [
      "epoch_6_dev_joint_accuracy_7.07  model.tar.gz  test.csv\n"
     ]
    }
   ],
   "source": [
    "!ls DST/results"
   ]
  },
  {
   "cell_type": "code",
   "execution_count": 12,
   "id": "45d664a3",
   "metadata": {},
   "outputs": [
    {
     "name": "stdout",
     "output_type": "stream",
     "text": [
      "checkpoints\t\t       DST\toverview.png\n",
      "CODE_OF_CONDUCT.md\t       E2E_TOD\tPretraining\n",
      "CONTRIBUTING.md\t\t       IC\tREADME.md\n",
      "data\t\t\t       LICENSE\trequirements.txt\n",
      "download_trained_output.ipynb  NOTICE\tsagemaker_train.ipynb\n"
     ]
    }
   ],
   "source": [
    "# clear selected_turns folder\n",
    "!rm -r DST/results\n",
    "!ls"
   ]
  },
  {
   "cell_type": "code",
   "execution_count": 13,
   "id": "34989945",
   "metadata": {},
   "outputs": [],
   "source": [
    "key = 'zihan-research/dialogue-state-tracking/PPTOD-AL/Train/PPTOD-base-LastTurn/mwz20/model/Train-PPTOD-base-LT-S625-2022-06-11-16-18-17-014/output/model.tar.gz'"
   ]
  },
  {
   "cell_type": "code",
   "execution_count": 14,
   "id": "4a10b5d1",
   "metadata": {},
   "outputs": [
    {
     "name": "stdout",
     "output_type": "stream",
     "text": [
      "CPU times: user 2.94 s, sys: 2.67 s, total: 5.61 s\n",
      "Wall time: 2.98 s\n"
     ]
    }
   ],
   "source": [
    "%%time\n",
    "# download the output.tar.gz to selected_turns folder\n",
    "sagemaker_session.download_data(path='DST/results', bucket=bucket, key_prefix=key)"
   ]
  },
  {
   "cell_type": "code",
   "execution_count": 15,
   "id": "0a9bbb44",
   "metadata": {},
   "outputs": [
    {
     "name": "stdout",
     "output_type": "stream",
     "text": [
      "epoch_6_dev_joint_accuracy_8.08/\n",
      "epoch_6_dev_joint_accuracy_8.08/config.json\n",
      "epoch_6_dev_joint_accuracy_8.08/added_tokens.json\n",
      "epoch_6_dev_joint_accuracy_8.08/test_joint_accuracy_14.14.json\n",
      "epoch_6_dev_joint_accuracy_8.08/pytorch_model.bin\n",
      "epoch_6_dev_joint_accuracy_8.08/spiece.model\n",
      "epoch_6_dev_joint_accuracy_8.08/tokenizer_config.json\n",
      "epoch_6_dev_joint_accuracy_8.08/special_tokens_map.json\n",
      "epoch_6_dev_joint_accuracy_8.08/dev_joint_accuracy_8.08.json\n",
      "CPU times: user 93.6 ms, sys: 19.8 ms, total: 113 ms\n",
      "Wall time: 7.76 s\n"
     ]
    }
   ],
   "source": [
    "%%time\n",
    "# Extract the files from output.tar.gz to checkpoints directory\n",
    "!tar -zxvf DST/results/model.tar.gz -C DST/results"
   ]
  },
  {
   "cell_type": "code",
   "execution_count": 95,
   "id": "7ca87b12",
   "metadata": {},
   "outputs": [
    {
     "name": "stdout",
     "output_type": "stream",
     "text": [
      "model_best.pth.tar  output.tar.gz  tokenizer\n"
     ]
    }
   ],
   "source": [
    "!ls checkpoints"
   ]
  },
  {
   "cell_type": "code",
   "execution_count": null,
   "id": "78275d16",
   "metadata": {},
   "outputs": [],
   "source": []
  },
  {
   "cell_type": "code",
   "execution_count": 36,
   "id": "58bfb606",
   "metadata": {},
   "outputs": [],
   "source": [
    "# !mv 'checkpoints/checkpoint-epoch-9.pth.tar' 'checkpoints/model_best.pth.tar'"
   ]
  }
 ],
 "metadata": {
  "kernelspec": {
   "display_name": "conda_pytorch_p36",
   "language": "python",
   "name": "conda_pytorch_p36"
  },
  "language_info": {
   "codemirror_mode": {
    "name": "ipython",
    "version": 3
   },
   "file_extension": ".py",
   "mimetype": "text/x-python",
   "name": "python",
   "nbconvert_exporter": "python",
   "pygments_lexer": "ipython3",
   "version": "3.6.13"
  }
 },
 "nbformat": 4,
 "nbformat_minor": 5
}
